{
 "cells": [
  {
   "cell_type": "markdown",
   "metadata": {
    "collapsed": true
   },
   "source": [
    "# This code is an implementation of Algorithm 2 in the paper:\n",
    "T. Le, V. Subramanian, R. Berry, **Quantifying the Utility of Noisy Reviews in Stopping Information Cascades**, manuscript submitted to IEEE CDC, 2016. Archived version available at: https://archive.org/details/CDC2016Archive\n",
    "\n",
    "## The algorithm calculates, for the case of bad product, the probability of the time until a correct information cascade happens (i.e., people learn the true value of the product and stop buying it), $P[\\tau = n|h_1]$. Here we are conditioning on $h_1$, the state of the system after the first agent's action choice and his review.\n",
    "\n",
    "## The algorithm idea is to build a breadth-first tree conditioned on $h_1$.\n",
    "\n",
    "## Here, n is the first agent who starts the correct cascade.\n",
    "Computational power of my laptop allows up to around 17.\n",
    "\n",
    "## The outputs are written to .csv files for different values of the private signal $p$. Then these results are read to MATLAB for further processing and generatting the plots."
   ]
  },
  {
   "cell_type": "code",
   "execution_count": 36,
   "metadata": {
    "collapsed": true
   },
   "outputs": [],
   "source": [
    "import numpy as np\n",
    "from pandas import Series, DataFrame # since we use Series, DataFrame so often in this course\n",
    "import pandas as pd\n",
    "\n",
    "import math"
   ]
  },
  {
   "cell_type": "code",
   "execution_count": 14,
   "metadata": {
    "collapsed": false
   },
   "outputs": [
    {
     "data": {
      "text/html": [
       "<div>\n",
       "<table border=\"1\" class=\"dataframe\">\n",
       "  <thead>\n",
       "    <tr style=\"text-align: right;\">\n",
       "      <th></th>\n",
       "      <th>Node</th>\n",
       "      <th>a</th>\n",
       "      <th>flag</th>\n",
       "      <th>hi</th>\n",
       "      <th>level</th>\n",
       "      <th>lo</th>\n",
       "      <th>max</th>\n",
       "      <th>min</th>\n",
       "      <th>r</th>\n",
       "      <th>stat</th>\n",
       "    </tr>\n",
       "  </thead>\n",
       "  <tbody>\n",
       "    <tr>\n",
       "      <th>0</th>\n",
       "      <td>L_</td>\n",
       "      <td>-1</td>\n",
       "      <td>fail</td>\n",
       "      <td>inf</td>\n",
       "      <td>1</td>\n",
       "      <td>0</td>\n",
       "      <td>-1</td>\n",
       "      <td>-1</td>\n",
       "      <td>0</td>\n",
       "      <td>notdone</td>\n",
       "    </tr>\n",
       "  </tbody>\n",
       "</table>\n",
       "</div>"
      ],
      "text/plain": [
       "  Node  a  flag   hi  level  lo  max  min  r     stat\n",
       "0   L_ -1  fail  inf      1   0   -1   -1  0  notdone"
      ]
     },
     "execution_count": 14,
     "metadata": {},
     "output_type": "execute_result"
    }
   ],
   "source": [
    "# build a from a list of dictionary instead of a dictionary with values being lists\n",
    "# each dictionary is a node with all the attributes\n",
    "# 'Node': name of the node, also the realization at that node\n",
    "\n",
    "root1 = {'Node': 'L_', 'level': 1, 'a': -1, 'r': 0,  'hi': float('inf'), 'lo': 0, 'min' : -1, 'max' : -1,\n",
    "         'stat': 'notdone', 'flag': 'fail'}\n",
    "tree1 = [root1]\n",
    "tree1_frame = DataFrame(tree1)\n",
    "#Show\n",
    "tree1_frame"
   ]
  },
  {
   "cell_type": "code",
   "execution_count": 13,
   "metadata": {
    "collapsed": false
   },
   "outputs": [
    {
     "data": {
      "text/html": [
       "<div>\n",
       "<table border=\"1\" class=\"dataframe\">\n",
       "  <thead>\n",
       "    <tr style=\"text-align: right;\">\n",
       "      <th></th>\n",
       "      <th>Node</th>\n",
       "      <th>a</th>\n",
       "      <th>flag</th>\n",
       "      <th>hi</th>\n",
       "      <th>level</th>\n",
       "      <th>lo</th>\n",
       "      <th>max</th>\n",
       "      <th>min</th>\n",
       "      <th>r</th>\n",
       "      <th>stat</th>\n",
       "    </tr>\n",
       "  </thead>\n",
       "  <tbody>\n",
       "    <tr>\n",
       "      <th>0</th>\n",
       "      <td>HB</td>\n",
       "      <td>1</td>\n",
       "      <td>fail</td>\n",
       "      <td>inf</td>\n",
       "      <td>1</td>\n",
       "      <td>0.5</td>\n",
       "      <td>1</td>\n",
       "      <td>-1</td>\n",
       "      <td>-1</td>\n",
       "      <td>notdone</td>\n",
       "    </tr>\n",
       "  </tbody>\n",
       "</table>\n",
       "</div>"
      ],
      "text/plain": [
       "  Node  a  flag   hi  level   lo  max  min  r     stat\n",
       "0   HB  1  fail  inf      1  0.5    1   -1 -1  notdone"
      ]
     },
     "execution_count": 13,
     "metadata": {},
     "output_type": "execute_result"
    }
   ],
   "source": [
    "root2 = {'Node': 'HB', 'level': 1, 'a': +1, 'r': -1, 'hi': float('inf'), 'lo': 1/2, 'min' : -1, 'max' : 1,\n",
    "         'stat': 'notdone', 'flag': 'fail'}\n",
    "tree2 = [root2]\n",
    "tree2_frame = DataFrame(tree2)\n",
    "#Show\n",
    "tree2_frame"
   ]
  },
  {
   "cell_type": "code",
   "execution_count": 15,
   "metadata": {
    "collapsed": false
   },
   "outputs": [
    {
     "data": {
      "text/html": [
       "<div>\n",
       "<table border=\"1\" class=\"dataframe\">\n",
       "  <thead>\n",
       "    <tr style=\"text-align: right;\">\n",
       "      <th></th>\n",
       "      <th>Node</th>\n",
       "      <th>a</th>\n",
       "      <th>flag</th>\n",
       "      <th>hi</th>\n",
       "      <th>level</th>\n",
       "      <th>lo</th>\n",
       "      <th>max</th>\n",
       "      <th>min</th>\n",
       "      <th>r</th>\n",
       "      <th>stat</th>\n",
       "    </tr>\n",
       "  </thead>\n",
       "  <tbody>\n",
       "    <tr>\n",
       "      <th>0</th>\n",
       "      <td>HG</td>\n",
       "      <td>1</td>\n",
       "      <td>fail</td>\n",
       "      <td>inf</td>\n",
       "      <td>1</td>\n",
       "      <td>0</td>\n",
       "      <td>inf</td>\n",
       "      <td>1</td>\n",
       "      <td>1</td>\n",
       "      <td>notdone</td>\n",
       "    </tr>\n",
       "  </tbody>\n",
       "</table>\n",
       "</div>"
      ],
      "text/plain": [
       "  Node  a  flag   hi  level  lo  max  min  r     stat\n",
       "0   HG  1  fail  inf      1   0  inf    1  1  notdone"
      ]
     },
     "execution_count": 15,
     "metadata": {},
     "output_type": "execute_result"
    }
   ],
   "source": [
    "root3 = {'Node': 'HG', 'level': 1, 'a': +1, 'r': +1, 'hi': float('inf'), 'lo': 0, 'min' : 1, 'max' : float('inf'),\n",
    "         'stat': 'notdone', 'flag': 'fail'}\n",
    "tree3 = [root3]\n",
    "tree3_frame = DataFrame(tree3)\n",
    "#Show\n",
    "tree3_frame"
   ]
  },
  {
   "cell_type": "code",
   "execution_count": 10,
   "metadata": {
    "collapsed": true
   },
   "outputs": [],
   "source": [
    "def eval_h(a, r, x):\n",
    "    if r==0:\n",
    "        return a\n",
    "    elif x==0 and r>0:\n",
    "        return float('inf')\n",
    "    elif x==0 and r<0:\n",
    "        return -float('inf')\n",
    "    else:\n",
    "        return a + r/x "
   ]
  },
  {
   "cell_type": "code",
   "execution_count": 31,
   "metadata": {
    "collapsed": false
   },
   "outputs": [
    {
     "data": {
      "text/plain": [
       "1.0"
      ]
     },
     "execution_count": 31,
     "metadata": {},
     "output_type": "execute_result"
    }
   ],
   "source": [
    "# Test cases\n",
    "eval_h(1,-1,-float('inf'))"
   ]
  },
  {
   "cell_type": "code",
   "execution_count": 213,
   "metadata": {
    "collapsed": false
   },
   "outputs": [
    {
     "name": "stdout",
     "output_type": "stream",
     "text": [
      "False\n"
     ]
    }
   ],
   "source": [
    "print(eval_h(-1,-1,1)==-1)"
   ]
  },
  {
   "cell_type": "code",
   "execution_count": 11,
   "metadata": {
    "collapsed": true
   },
   "outputs": [],
   "source": [
    "def new_minmax(new_a, new_r, cur_lo, cur_hi): # always cur_lo < cur_hi\n",
    "    '''\n",
    "    return new_min, new_max evaluated with new_a, new_r at x = cur_lo and x = cur_hi\n",
    "    basically just determin which value of x among the two gives the higher value of h\n",
    "    the higher value is new_max, the lower value is new_min\n",
    "    '''\n",
    "    if new_r == 0:\n",
    "        # new_min = new_a, new_max = new_a\n",
    "        return new_a, new_a # note that this is a tuple.\n",
    "    elif new_r > 0:\n",
    "        # new_min = eval_h(new_a, new_r, cur_hi), new_max = eval_h(new_a, new_r, cur_lo)\n",
    "        return eval_h(new_a, new_r, cur_hi), eval_h(new_a, new_r, cur_lo)\n",
    "    else:\n",
    "        return eval_h(new_a, new_r, cur_lo), eval_h(new_a, new_r, cur_hi)\n",
    "    # new_min = new_max in only 1 cases new_r ==0 \n",
    "    # the case cur_lo = cur_hi cannot happen \n",
    "    # cur_lo can not be <0\n",
    "    \n",
    "        "
   ]
  },
  {
   "cell_type": "code",
   "execution_count": 87,
   "metadata": {
    "collapsed": false
   },
   "outputs": [
    {
     "data": {
      "text/plain": [
       "(1.0, inf)"
      ]
     },
     "execution_count": 87,
     "metadata": {},
     "output_type": "execute_result"
    }
   ],
   "source": [
    "# Test cases\n",
    "# new_minmax(-2,0,0,float('inf'))\n",
    "# new_minmax(0,-1,0,float('inf'))\n",
    "# new_minmax(0,1,0,float('inf'))\n",
    "# new_minmax(1,-2,1,float('inf'))\n",
    "# new_minmax(1,1,1/2,1)\n",
    "# new_minmax(1,1,1/2,1/2)\n",
    "# new_minmax(1,1,0,float('inf'))"
   ]
  },
  {
   "cell_type": "code",
   "execution_count": 13,
   "metadata": {
    "collapsed": true
   },
   "outputs": [],
   "source": [
    "def int_update(new_a, new_r, cur_lo, cur_hi):\n",
    "    # to return 3 lists, each specifies the condition for new_h to be in 3 corresponding intervals:\n",
    "    # (-inf, -1), [-1, 1], (1,+inf)\n",
    "    \n",
    "    new_min, new_max = new_minmax(new_a, new_r, cur_lo, cur_hi)\n",
    "    # Now compare new_min, new_max with cur_min, cur_max to set the new intervals\n",
    "    if new_min == new_max: # then no change in cond, now we only return the corresponding interval, the other two are empty\n",
    "        if new_min < -1:\n",
    "            return [cur_lo, cur_hi], [], []\n",
    "        elif new_min > 1:\n",
    "            return [], [], [cur_lo, cur_hi]\n",
    "        else:\n",
    "            return [], [cur_lo, cur_hi], []\n",
    "    else: #i.e. new_min < new_max (also mean new_r != 0)\n",
    "        # now, we need to find the new conditions: new_lo, new_h for each of the 3 intervals\n",
    "        # case 1: new_max < -1\n",
    "        if new_max <= -1:\n",
    "            return [cur_lo, cur_hi], [], []\n",
    "        elif new_min >= 1:\n",
    "            return [], [], [cur_lo, cur_hi]\n",
    "        elif new_min >= -1 and new_max <= 1:\n",
    "            return [], [cur_lo, cur_hi], []\n",
    "        elif new_min <-1 and new_max >-1 and new_max <= 1:        \n",
    "            # solve for new_h = -11\n",
    "            sol_m1 = new_r/(-new_a - 1) # we must have cur_lo < sol_m1 < cur_hi, since new_h is linear, monotonic\n",
    "            if new_r > 0:\n",
    "                return [sol_m1, cur_hi], [cur_lo, sol_m1], []\n",
    "            elif new_r < 0:\n",
    "                return [cur_lo, sol_m1], [sol_m1, cur_hi], []\n",
    "        elif new_min >= -1 and new_min < 1 and new_max >= 1:\n",
    "            sol_p1 = new_r/(-new_a + 1) # we must have cur_lo < sol_m1 < cur_hi, since new_h is linear, monotonic\n",
    "            if new_r > 0:\n",
    "                return [], [sol_p1, cur_hi], [cur_lo, sol_p1]\n",
    "            elif new_r < 0:\n",
    "                return [], [cur_lo, sol_p1], [sol_p1, cur_hi]\n",
    "        elif new_min <-1 and new_max >1:\n",
    "            sol_m1 = new_r/(-new_a - 1)\n",
    "            sol_p1 = new_r/(-new_a + 1)\n",
    "            if new_r > 0:\n",
    "                return [sol_m1, cur_hi], [sol_p1, sol_m1], [cur_lo, sol_p1]\n",
    "            elif new_r < 0:\n",
    "                return [cur_lo, sol_m1], [sol_m1, sol_p1], [sol_p1, cur_hi]"
   ]
  },
  {
   "cell_type": "code",
   "execution_count": 81,
   "metadata": {
    "collapsed": false
   },
   "outputs": [
    {
     "data": {
      "text/plain": [
       "([], [], [1, 2])"
      ]
     },
     "execution_count": 81,
     "metadata": {},
     "output_type": "execute_result"
    }
   ],
   "source": [
    "# Test cases, for n=4\n",
    "#--------For h1 = -1\n",
    "int_update(-2, 0, 0, float('inf')) # ([0, inf], [], [])\n",
    "\n",
    "#--------For h1 = 1-1/x\n",
    "int_update(2, -2, 1/2, float('inf')) # ([0.5, 0.6666666666666666], [0.6666666666666666, 2.0], [2.0, inf])\n",
    "int_update(0, -1, 1/2, float('inf')) # ([0.5, 1.0], [1.0, inf], [])\n",
    "int_update(2, 0, 1/2, float('inf')) # ([], [], [0.5, inf])\n",
    "int_update(-1, -1, 1, float('inf')) # ([1, inf], [], [])\n",
    "int_update(1, -2, 1, float('inf')) # ([], [1, inf], [])\n",
    "int_update(1, 0, 1, float('inf')) # ([], [1, inf], [])\n",
    "int_update(0, -2, 1, float('inf')) #([1, 2.0], [2.0, inf], [])\n",
    "int_update(2, -3, 1, float('inf')) # ([], [1, 3.0], [3.0, inf])\n",
    "int_update(2, -1, 1, float('inf')) # ([], [], [1, inf])\n",
    "int_update(0, 0, 1, float('inf')) # ([], [1, inf], [])\n",
    "int_update(2, -1, 1, float('inf')) # ([], [], [1, inf])\n",
    "int_update(2, 1, 1, float('inf')) # ([], [], [1, inf])\n",
    "int_update(2, -3, 2, float('inf')) # ([], [2, 3.0], [3.0, inf])\n",
    "int_update(2, -4, 3, float('inf')) # ([], [3, 4.0], [4.0, inf])\n",
    "int_update(1, -3, 2, 3) # ([], [2, 3], [])\n",
    "int_update(3, -1, 2, 3) # ([], [], [2, 3])\n",
    "int_update(3, -3, 2, 3) # ([], [], [2, 3])\n",
    "int_update(3, -1, 2, float('inf')) # ([], [], [2, inf])\n",
    "int_update(1, -2, 2/3, 2) # ([0.6666666666666666, 1.0], [1.0, 2], [])\n",
    "int_update(0, -2, 1, 2) # ([1, 2], [], [])\n",
    "int_update(2, -3, 1, 2) # ([], [1, 2], [])\n",
    "int_update(2, -1, 1, 2) # ([], [], [1, 2])\n",
    "#--------For h1 = 1+1/x "
   ]
  },
  {
   "cell_type": "code",
   "execution_count": 14,
   "metadata": {
    "collapsed": true
   },
   "outputs": [],
   "source": [
    "def create_node(new_name, new_a, new_r, cur_lo, cur_hi):\n",
    "    '''\n",
    "    Take the new_a, new_r and create the new node\n",
    "    '''\n",
    "    new_min, new_max = new_minmax(new_a, new_r, cur_lo, cur_hi)\n",
    "    return {'node': new_name, 'a': new_a, 'r': new_r,  'hi': cur_hi, 'lo': cur_lo, \n",
    "                                    'min' : new_min, 'max' : new_max}"
   ]
  },
  {
   "cell_type": "code",
   "execution_count": 130,
   "metadata": {
    "collapsed": true
   },
   "outputs": [],
   "source": [
    "# import bisect \n",
    "def BFS_tree(n, root):\n",
    "    '''\n",
    "    n: max of tau\n",
    "    3 possibilities: h1 = -1 (a=-1,r=0), h1 = 1-1/x (a=1,r=-1), h1 = 1+1/x (a=1,r=1)\n",
    "    '''\n",
    "    #tree = [] # initialize the list of list of dictionaries, each dictionary is a node\n",
    "    # each list of dictionaries is the node at a certain level. Beware of the order, if not need to set the first element\n",
    "    # of the list as the indicator of level.\n",
    "    \n",
    "    tree = []\n",
    "    for i in range(n):\n",
    "        tree.append([])\n",
    "    tree[0] = [root]\n",
    "\n",
    "    #tree1_frame = DataFrame(tree1)\n",
    "    qualified = []\n",
    "    intervals = []\n",
    "    \n",
    "    cur_height = 0;\n",
    "    \n",
    "    while (cur_height < n): # tree[cur_height] is the list of nodes (dicts) at the current height\n",
    "        for i, node in enumerate(tree[cur_height]):\n",
    "            # node = tree[cur_height][0]\n",
    "            # node is a dictionary\n",
    "            \n",
    "            if cur_height < n-1: # not a leaf, consider adding children\n",
    "                if (node['min'] < -1): # i.e N cascade\n",
    "                    next\n",
    "                elif (node['max'] > 1): # i.e. Y cascade\n",
    "                    # --------------------------then 2 possibility to add, no Signal, only Reviews B or G\n",
    "                    \n",
    "                    # -- 1st possibility: : new_a = cur_a, new_r = cur_r - 1, R = B\n",
    "                    new_a = node['a']\n",
    "                    new_r = node['r'] - 1 \n",
    "                    new_name = node['node'] + '_B' # the underscore is to denote missing signal\n",
    "                    int_below_m1, int_m1_p1, int_above_p1 = int_update(new_a, new_r, node['lo'], node['hi'])\n",
    "                    \n",
    "                    if ((not not int_below_m1) and (cur_height == n-2)):\n",
    "                        #i.e. N cascade exists for its children, but the children are leaf, so need to add this\n",
    "                        new_node = create_node(new_name, new_a, new_r, int_below_m1[0], int_below_m1[1])\n",
    "                        tree[cur_height+1].append(new_node)\n",
    "                    if (not not int_m1_p1):\n",
    "                        new_node = create_node(new_name, new_a, new_r, int_m1_p1[0], int_m1_p1[1])\n",
    "                        tree[cur_height+1].append(new_node)\n",
    "                    if (not not int_above_p1):\n",
    "                        new_node = create_node(new_name, new_a, new_r, int_above_p1[0], int_above_p1[1])\n",
    "                        tree[cur_height+1].append(new_node)\n",
    "                    \n",
    "                    # -- 2nd possibility: : new_a = cur_a, new_r = cur_r + 1, R = G\n",
    "                    new_a = node['a']\n",
    "                    new_r = node['r'] + 1 \n",
    "                    new_name = node['node'] + '_G' \n",
    "                    int_below_m1, int_m1_p1, int_above_p1 = int_update(new_a, new_r, node['lo'], node['hi'])\n",
    "                    \n",
    "                    if ((not not int_below_m1) and (cur_height == n-2)):\n",
    "                        #i.e. N cascade exists for its children, but the children are leaf, so need to add this\n",
    "                        new_node = create_node(new_name, new_a, new_r, int_below_m1[0], int_below_m1[1])\n",
    "                        tree[cur_height+1].append(new_node)\n",
    "                    if (not not int_m1_p1):\n",
    "                        new_node = create_node(new_name, new_a, new_r, int_m1_p1[0], int_m1_p1[1])\n",
    "                        tree[cur_height+1].append(new_node)\n",
    "                    if (not not int_above_p1):\n",
    "                        new_node = create_node(new_name, new_a, new_r, int_above_p1[0], int_above_p1[1])\n",
    "                        tree[cur_height+1].append(new_node)\n",
    "                else: # i.e. node['min'] >= -1 and node['max'] <= 1, then agent use Signal\n",
    "                    # --------------------------then 3 possibility to add: L , HB, HG\n",
    "                    \n",
    "                    # -- 1st possibility: : new_a = cur_a - 1, new_r = cur_r (since action = N, no review)\n",
    "                    new_a = node['a'] - 1\n",
    "                    new_r = node['r'] \n",
    "                    new_name = node['node'] + 'L_' # the underscore is to denote missing review\n",
    "                    int_below_m1, int_m1_p1, int_above_p1 = int_update(new_a, new_r, node['lo'], node['hi'])\n",
    "                    #print(int_below_m1, int_m1_p1, int_above_p1) # [0, inf] [] []\n",
    "                    \n",
    "                    if ((not not int_below_m1) and (cur_height == n-2)):\n",
    "                        #i.e. N cascade exists for its children, but the children are leaf, so need to add this\n",
    "                        new_node = create_node(new_name, new_a, new_r, int_below_m1[0], int_below_m1[1])\n",
    "                        tree[cur_height+1].append(new_node)\n",
    "                    if (not not int_m1_p1):\n",
    "                        new_node = create_node(new_name, new_a, new_r, int_m1_p1[0], int_m1_p1[1])\n",
    "                        tree[cur_height+1].append(new_node)\n",
    "                    if (not not int_above_p1):\n",
    "                        new_node = create_node(new_name, new_a, new_r, int_above_p1[0], int_above_p1[1])\n",
    "                        tree[cur_height+1].append(new_node)\n",
    "                        \n",
    "                    # -- 2nd possibility: : new_a = cur_a + 1, new_r = cur_r - 1\n",
    "                    new_a = node['a'] + 1\n",
    "                    new_r = node['r'] - 1\n",
    "                    new_name = node['node'] + 'HB'\n",
    "                    int_below_m1, int_m1_p1, int_above_p1 = int_update(new_a, new_r, node['lo'], node['hi'])\n",
    "                    \n",
    "                    if ((not not int_below_m1) and (cur_height == n-2)):\n",
    "                        #i.e. N cascade exists for its children, but the children are leaf, so need to add this\n",
    "                        new_node = create_node(new_name, new_a, new_r, int_below_m1[0], int_below_m1[1])\n",
    "                        tree[cur_height+1].append(new_node)\n",
    "                    if (not not int_m1_p1):\n",
    "                        new_node = create_node(new_name, new_a, new_r, int_m1_p1[0], int_m1_p1[1])\n",
    "                        tree[cur_height+1].append(new_node)\n",
    "                    if (not not int_above_p1):\n",
    "                        new_node = create_node(new_name, new_a, new_r, int_above_p1[0], int_above_p1[1])\n",
    "                        tree[cur_height+1].append(new_node)\n",
    "                        \n",
    "                    # -- 3rd possibility: : new_a = cur_a + 1, new_r = cur_r + 1\n",
    "                    new_a = node['a'] + 1\n",
    "                    new_r = node['r'] + 1\n",
    "                    new_name = node['node'] + 'HG'\n",
    "                    int_below_m1, int_m1_p1, int_above_p1 = int_update(new_a, new_r, node['lo'], node['hi'])\n",
    "                    \n",
    "                    if ((not not int_below_m1) and (cur_height == n-2)):\n",
    "                        #i.e. N cascade exists for its children, but the children are leaf, so need to add this\n",
    "                        new_node = create_node(new_name, new_a, new_r, int_below_m1[0], int_below_m1[1])\n",
    "                        tree[cur_height+1].append(new_node)\n",
    "                    if (not not int_m1_p1):\n",
    "                        new_node = create_node(new_name, new_a, new_r, int_m1_p1[0], int_m1_p1[1])\n",
    "                        tree[cur_height+1].append(new_node)\n",
    "                    if (not not int_above_p1):\n",
    "                        new_node = create_node(new_name, new_a, new_r, int_above_p1[0], int_above_p1[1])\n",
    "                        tree[cur_height+1].append(new_node)\n",
    "                           \n",
    "            else: # node is a leaf, consider adding to qualified list\n",
    "                if (node['min'] < -1): # i.e N cascade\n",
    "                    qualified.append(node)\n",
    "                    # bisect.insort(intervals, node['lo']) \n",
    "                    # bisect.insort(intervals, node['hi'])\n",
    "                    intervals.extend([node['lo'], node['hi']])\n",
    "                else: # a leaf that doesn't creat a N cascade, just ignore it.\n",
    "                    next\n",
    "                        \n",
    "        cur_height = cur_height + 1\n",
    "    intervals = sorted(list(set(intervals)))\n",
    "    return qualified, intervals\n",
    "    "
   ]
  },
  {
   "cell_type": "code",
   "execution_count": 47,
   "metadata": {
    "collapsed": true
   },
   "outputs": [],
   "source": [
    "root1 = {'node': 'L_', 'a': -1, 'r': 0,  'hi': float('inf'), 'lo': 0, 'min' : -1, 'max' : -1}\n",
    "root2 = {'node': 'HB', 'a': +1, 'r': -1, 'hi': float('inf'), 'lo': 1/2, 'min' : -1, 'max' : 1}\n",
    "root3 = {'node': 'HG', 'a': +1, 'r': +1, 'hi': float('inf'), 'lo': 0, 'min' : 1, 'max' : float('inf')}"
   ]
  },
  {
   "cell_type": "code",
   "execution_count": 135,
   "metadata": {
    "collapsed": false
   },
   "outputs": [],
   "source": [
    "n=2\n",
    "N_leaf, intervals = BFS_tree(n, root1)\n",
    "tree_N_leaf = DataFrame(N_leaf)\n",
    "#print(tree_built)\n",
    "#print(N_leaf)\n",
    "#print(len(tree_built))\n",
    "#tree_level0 = DataFrame(tree_built[0])\n",
    "#tree_level1 = DataFrame(tree_built[1])\n",
    "#tree_level2 = DataFrame(tree_built[2])\n",
    "#tree_level3 = DataFrame(tree_built[3])"
   ]
  },
  {
   "cell_type": "code",
   "execution_count": 136,
   "metadata": {
    "collapsed": false
   },
   "outputs": [
    {
     "data": {
      "text/plain": [
       "[0, 1.0, inf]"
      ]
     },
     "execution_count": 136,
     "metadata": {},
     "output_type": "execute_result"
    }
   ],
   "source": [
    "intervals"
   ]
  },
  {
   "cell_type": "code",
   "execution_count": 137,
   "metadata": {
    "collapsed": false
   },
   "outputs": [
    {
     "data": {
      "text/html": [
       "<div>\n",
       "<table border=\"1\" class=\"dataframe\">\n",
       "  <thead>\n",
       "    <tr style=\"text-align: right;\">\n",
       "      <th></th>\n",
       "      <th>a</th>\n",
       "      <th>hi</th>\n",
       "      <th>lo</th>\n",
       "      <th>max</th>\n",
       "      <th>min</th>\n",
       "      <th>node</th>\n",
       "      <th>r</th>\n",
       "    </tr>\n",
       "  </thead>\n",
       "  <tbody>\n",
       "    <tr>\n",
       "      <th>0</th>\n",
       "      <td>-2</td>\n",
       "      <td>inf</td>\n",
       "      <td>0</td>\n",
       "      <td>-2</td>\n",
       "      <td>-2.000000</td>\n",
       "      <td>L_L_</td>\n",
       "      <td>0</td>\n",
       "    </tr>\n",
       "    <tr>\n",
       "      <th>1</th>\n",
       "      <td>0</td>\n",
       "      <td>1.000000</td>\n",
       "      <td>0</td>\n",
       "      <td>-1</td>\n",
       "      <td>-inf</td>\n",
       "      <td>L_HB</td>\n",
       "      <td>-1</td>\n",
       "    </tr>\n",
       "  </tbody>\n",
       "</table>\n",
       "</div>"
      ],
      "text/plain": [
       "   a        hi  lo  max       min  node  r\n",
       "0 -2       inf   0   -2 -2.000000  L_L_  0\n",
       "1  0  1.000000   0   -1      -inf  L_HB -1"
      ]
     },
     "execution_count": 137,
     "metadata": {},
     "output_type": "execute_result"
    }
   ],
   "source": [
    "tree_N_leaf"
   ]
  },
  {
   "cell_type": "code",
   "execution_count": 232,
   "metadata": {
    "collapsed": true
   },
   "outputs": [],
   "source": [
    "def probability(qualified, intervals, p, d_list):\n",
    "    '''\n",
    "    return the probability P[tau=n] for each x in x_list\n",
    "    qualified is the list of nodes (dictionaries) that are leaves and lead to N cascade\n",
    "    '''\n",
    "    q = 1 - p\n",
    "    d1_list = [1- d for d in d_list] # this is 1 - d_list\n",
    "    base = [a/b for a,b in zip(d1_list, d_list)]\n",
    "    \n",
    "    x_list = [math.log(q/p, d) for d in base]\n",
    "    #print(x_list)\n",
    "    \n",
    "    prob_arr = np.zeros(len(d_list)) # initialize the array of\n",
    "    # prob of N cascade for each value of delta in d_list\n",
    "    # we will go through each qualified nodes and check which values\n",
    "    # of x in [lo, hi] of that node and then add the probability of that node to\n",
    "    # all the element of this array that has x falls into [lo, hi]\n",
    "    \n",
    "    for j, node in enumerate(qualified):\n",
    "        name = node['node']\n",
    "        num_L = name[2:].count('L') # slice [2:] since we need to ignore agent 1's information\n",
    "        num_H = name[2:].count('H')\n",
    "        num_B = name[2:].count('B')\n",
    "        num_G = name[2:].count('G')\n",
    "        num_L_all = name.count('L')\n",
    "        num_H_all = name.count('H')\n",
    "        num_B_all = name.count('B')\n",
    "        num_G_all = name.count('G')\n",
    "        cur_a = num_H_all - num_L_all\n",
    "        cur_r = num_G_all - num_B_all\n",
    "        \n",
    "        for i, x in enumerate(x_list):\n",
    "            if ((x >= node['lo']-1.0e-14) and (x <= node['hi']+1.0e-14)):\n",
    "                # Note that V=0, so L and B correspond to higher probabilities: p and delta\n",
    "                delta = d_list[i]\n",
    "                delta1 = d1_list[i] # 1-delta\n",
    "                \n",
    "                if ((abs(p-delta) < 1.0e-15) and ( eval_h(cur_a, cur_r, 1) == -1 )):\n",
    "                    next\n",
    "                else:\n",
    "                    prob_arr[i] = prob_arr[i] + (p**num_L) * (q**num_H) * (delta1**num_G) * (delta**num_B)\n",
    "\n",
    "    return prob_arr"
   ]
  },
  {
   "cell_type": "code",
   "execution_count": 285,
   "metadata": {
    "collapsed": false
   },
   "outputs": [
    {
     "name": "stdout",
     "output_type": "stream",
     "text": [
      "121496\n"
     ]
    }
   ],
   "source": [
    "n=17\n",
    "#N_leaf, intervals = BFS_tree(n, root1)\n",
    "#print(len(N_leaf))\n",
    "# gives 95898 combinations that lead to N cascade\n",
    "#N_leaf, intervals = BFS_tree(n, root2)\n",
    "#print(len(N_leaf))\n",
    "# gives 172840 combinations that lead to N cascade\n",
    "N_leaf, intervals = BFS_tree(n, root3)\n",
    "print(len(N_leaf))\n",
    "# gives 121496 combinations that lead to N cascade"
   ]
  },
  {
   "cell_type": "code",
   "execution_count": 252,
   "metadata": {
    "collapsed": false
   },
   "outputs": [],
   "source": [
    "n=17\n",
    "N_leaf, intervals = BFS_tree(n, root1)\n",
    "p = 0.7\n",
    "q = 1 - p\n",
    "#d_list = np.arange(0.6,1,0.1)\n",
    "d_list = np.arange(0.51,1,0.01)\n",
    "d1_list = [1- d for d in d_list] # this is 1 - d_list\n",
    "base = [a/b for a,b in zip(d1_list, d_list)]   \n",
    "x_list = [math.log(q/p, d) for d in base]\n",
    "arr = probability(N_leaf, intervals, p, d_list)"
   ]
  },
  {
   "cell_type": "code",
   "execution_count": 227,
   "metadata": {
    "collapsed": false
   },
   "outputs": [
    {
     "name": "stdout",
     "output_type": "stream",
     "text": [
      "0.7\n",
      "0.7\n",
      "False\n",
      "2.22044604925e-16\n",
      "True\n",
      "False\n",
      "-1.2212453270876722e-15\n"
     ]
    }
   ],
   "source": [
    "print(d_list[19])\n",
    "print(p)\n",
    "print(d_list[19]==p)\n",
    "print(d_list[19] - p)\n",
    "print(abs(d_list[19] - p) < 1.0e-15)\n",
    "print(x_list[19] >= 1)\n",
    "print(x_list[19] - 1)\n",
    "\n",
    "# need to use abs()< tol to check for equality of 2 float values"
   ]
  },
  {
   "cell_type": "code",
   "execution_count": 221,
   "metadata": {
    "collapsed": false
   },
   "outputs": [
    {
     "data": {
      "text/plain": [
       "49"
      ]
     },
     "execution_count": 221,
     "metadata": {},
     "output_type": "execute_result"
    }
   ],
   "source": [
    "len(arr)"
   ]
  },
  {
   "cell_type": "code",
   "execution_count": 251,
   "metadata": {
    "collapsed": false
   },
   "outputs": [],
   "source": [
    "np.savetxt(\"foo.csv\", arr)"
   ]
  },
  {
   "cell_type": "code",
   "execution_count": 253,
   "metadata": {
    "collapsed": false
   },
   "outputs": [
    {
     "data": {
      "text/html": [
       "<div>\n",
       "<table border=\"1\" class=\"dataframe\">\n",
       "  <thead>\n",
       "    <tr style=\"text-align: right;\">\n",
       "      <th></th>\n",
       "      <th>a</th>\n",
       "      <th>hi</th>\n",
       "      <th>lo</th>\n",
       "      <th>max</th>\n",
       "      <th>min</th>\n",
       "      <th>node</th>\n",
       "      <th>r</th>\n",
       "    </tr>\n",
       "  </thead>\n",
       "  <tbody>\n",
       "    <tr>\n",
       "      <th>0</th>\n",
       "      <td>0</td>\n",
       "      <td>2.000000</td>\n",
       "      <td>1</td>\n",
       "      <td>-1</td>\n",
       "      <td>-2.000000</td>\n",
       "      <td>L_HBHBL_</td>\n",
       "      <td>-2</td>\n",
       "    </tr>\n",
       "    <tr>\n",
       "      <th>1</th>\n",
       "      <td>-2</td>\n",
       "      <td>inf</td>\n",
       "      <td>1</td>\n",
       "      <td>-1</td>\n",
       "      <td>-2.000000</td>\n",
       "      <td>L_HGL_L_</td>\n",
       "      <td>1</td>\n",
       "    </tr>\n",
       "    <tr>\n",
       "      <th>2</th>\n",
       "      <td>1</td>\n",
       "      <td>0.500000</td>\n",
       "      <td>0</td>\n",
       "      <td>-1</td>\n",
       "      <td>-inf</td>\n",
       "      <td>L_HG_BHB</td>\n",
       "      <td>-1</td>\n",
       "    </tr>\n",
       "  </tbody>\n",
       "</table>\n",
       "</div>"
      ],
      "text/plain": [
       "   a        hi  lo  max       min      node  r\n",
       "0  0  2.000000   1   -1 -2.000000  L_HBHBL_ -2\n",
       "1 -2       inf   1   -1 -2.000000  L_HGL_L_  1\n",
       "2  1  0.500000   0   -1      -inf  L_HG_BHB -1"
      ]
     },
     "execution_count": 253,
     "metadata": {},
     "output_type": "execute_result"
    }
   ],
   "source": [
    "DataFrame(N_leaf)"
   ]
  },
  {
   "cell_type": "code",
   "execution_count": 254,
   "metadata": {
    "collapsed": true
   },
   "outputs": [],
   "source": [
    "def main(n, p, d_list):\n",
    "    '''\n",
    "    n: max of tau\n",
    "    call the BSF 3 times for 3 different possibilities: h1 = -1 (a=-1,r=0), h1 = 1-1/x (a=1,r=-1), h1 = 1+1/x (a=1,r=1)\n",
    "    \n",
    "    '''\n",
    "    # Initialize the 3 trees\n",
    "    root1 = {'node': 'L_', 'a': -1, 'r': 0,  'hi': float('inf'), 'lo': 0, 'min' : -1, 'max' : -1}\n",
    "    #tree1 = [[root1]]\n",
    "    # tree1_frame = DataFrame(tree1)\n",
    "    \n",
    "    root2 = {'node': 'HB', 'a': +1, 'r': -1, 'hi': float('inf'), 'lo': 1/2, 'min' : -1, 'max' : 1}    \n",
    "    root3 = {'node': 'HG', 'a': +1, 'r': +1, 'hi': float('inf'), 'lo': 0, 'min' : 1, 'max' : float('inf')}\n",
    "    \n",
    "    N_leaves_L, intervals_L = BFS_tree(n, root1) \n",
    "    # list of leaves, each elements is a dictionary (a node)\n",
    "    # intervals are a list of intervals of x that correspond to conditions for x of all the nodes in N_leaves_L\n",
    "    # only use the node (i.e name, or realization ), and the interval [lo, hi]\n",
    "    \n",
    "    N_leaves_HB, intervals_HB = BFS_tree(n, root2)\n",
    "    N_leaves_HG, intervals_HG = BFS_tree(n, root3)\n",
    "    \n",
    "    \n",
    "    prob_L = probability(N_leaves_L, intervals_L, p, d_list) # numpy array\n",
    "    prob_HB = probability(N_leaves_HB, intervals_HB, p, d_list) # numpy array\n",
    "    prob_HG = probability(N_leaves_HG, intervals_HG, p, d_list) # numpy array\n",
    "    \n",
    "    return prob_L, prob_HB, prob_HG # the 3 arrays of probabilities for L, HB, HG"
   ]
  },
  {
   "cell_type": "code",
   "execution_count": 273,
   "metadata": {
    "collapsed": true
   },
   "outputs": [],
   "source": [
    "n=1 # need to work on this special case\n",
    "prob_L1, prob_HB1, prob_HG1 = main(n, p, d_list)\n",
    "np.savetxt(\"fooL1.csv\", prob_L1)\n",
    "np.savetxt(\"fooHB1.csv\", prob_HB1)\n",
    "np.savetxt(\"fooHG1.csv\", prob_HG1)"
   ]
  },
  {
   "cell_type": "code",
   "execution_count": 272,
   "metadata": {
    "collapsed": true
   },
   "outputs": [],
   "source": [
    "n=2\n",
    "prob_L2, prob_HB2, prob_HG2 = main(n, p, d_list)\n",
    "np.savetxt(\"fooL2.csv\", prob_L2)\n",
    "np.savetxt(\"fooHB2.csv\", prob_HB2)\n",
    "np.savetxt(\"fooHG2.csv\", prob_HG2)"
   ]
  },
  {
   "cell_type": "code",
   "execution_count": 264,
   "metadata": {
    "collapsed": true
   },
   "outputs": [],
   "source": [
    "n=3\n",
    "p = 0.7\n",
    "d_list = np.arange(0.501,1,0.001)\n",
    "prob_L3, prob_HB3, prob_HG3 = main(n, p, d_list)\n",
    "# write the 3 list to file\n",
    "np.savetxt(\"fooL3.csv\", prob_L3)\n",
    "np.savetxt(\"fooHB3.csv\", prob_HB3)\n",
    "np.savetxt(\"fooHG3.csv\", prob_HG3)"
   ]
  },
  {
   "cell_type": "code",
   "execution_count": 265,
   "metadata": {
    "collapsed": true
   },
   "outputs": [],
   "source": [
    "n=4\n",
    "prob_L4, prob_HB4, prob_HG4 = main(n, p, d_list)\n",
    "np.savetxt(\"fooL4.csv\", prob_L4)\n",
    "np.savetxt(\"fooHB4.csv\", prob_HB4)\n",
    "np.savetxt(\"fooHG4.csv\", prob_HG4)"
   ]
  },
  {
   "cell_type": "code",
   "execution_count": 266,
   "metadata": {
    "collapsed": true
   },
   "outputs": [],
   "source": [
    "n=5\n",
    "prob_L5, prob_HB5, prob_HG5 = main(n, p, d_list)\n",
    "np.savetxt(\"fooL5.csv\", prob_L5)\n",
    "np.savetxt(\"fooHB5.csv\", prob_HB5)\n",
    "np.savetxt(\"fooHG5.csv\", prob_HG5)"
   ]
  },
  {
   "cell_type": "code",
   "execution_count": 267,
   "metadata": {
    "collapsed": true
   },
   "outputs": [],
   "source": [
    "n=6\n",
    "prob_L6, prob_HB6, prob_HG6 = main(n, p, d_list)\n",
    "np.savetxt(\"fooL6.csv\", prob_L6)\n",
    "np.savetxt(\"fooHB6.csv\", prob_HB6)\n",
    "np.savetxt(\"fooHG6.csv\", prob_HG6)"
   ]
  },
  {
   "cell_type": "code",
   "execution_count": 268,
   "metadata": {
    "collapsed": true
   },
   "outputs": [],
   "source": [
    "n=7\n",
    "prob_L7, prob_HB7, prob_HG7 = main(n, p, d_list)\n",
    "np.savetxt(\"fooL7.csv\", prob_L7)\n",
    "np.savetxt(\"fooHB7.csv\", prob_HB7)\n",
    "np.savetxt(\"fooHG7.csv\", prob_HG7)"
   ]
  },
  {
   "cell_type": "code",
   "execution_count": 269,
   "metadata": {
    "collapsed": true
   },
   "outputs": [],
   "source": [
    "n=8\n",
    "prob_L8, prob_HB8, prob_HG8 = main(n, p, d_list)\n",
    "np.savetxt(\"fooL8.csv\", prob_L8)\n",
    "np.savetxt(\"fooHB8.csv\", prob_HB8)\n",
    "np.savetxt(\"fooHG8.csv\", prob_HG8)"
   ]
  },
  {
   "cell_type": "code",
   "execution_count": 270,
   "metadata": {
    "collapsed": true
   },
   "outputs": [],
   "source": [
    "n=9\n",
    "prob_L9, prob_HB9, prob_HG9 = main(n, p, d_list)\n",
    "np.savetxt(\"fooL9.csv\", prob_L9)\n",
    "np.savetxt(\"fooHB9.csv\", prob_HB9)\n",
    "np.savetxt(\"fooHG9.csv\", prob_HG9)"
   ]
  },
  {
   "cell_type": "code",
   "execution_count": 271,
   "metadata": {
    "collapsed": true
   },
   "outputs": [],
   "source": [
    "n=10\n",
    "prob_L10, prob_HB10, prob_HG10 = main(n, p, d_list)\n",
    "np.savetxt(\"fooL10.csv\", prob_L10)\n",
    "np.savetxt(\"fooHB10.csv\", prob_HB10)\n",
    "np.savetxt(\"fooHG10.csv\", prob_HG10)"
   ]
  },
  {
   "cell_type": "code",
   "execution_count": 279,
   "metadata": {
    "collapsed": false
   },
   "outputs": [],
   "source": [
    "for n in range(11,16):\n",
    "    #print(n)\n",
    "    prob_L, prob_HB, prob_HG = main(n, p, d_list)\n",
    "    file_L = 'fooL' + str(n) + '.csv'\n",
    "    file_HB = 'fooHB' + str(n) + '.csv'\n",
    "    file_HG = 'fooHG' + str(n) + '.csv'\n",
    "    np.savetxt(file_L, prob_L)\n",
    "    np.savetxt(file_HB, prob_HB)\n",
    "    np.savetxt(file_HG, prob_HG)\n",
    "    "
   ]
  },
  {
   "cell_type": "code",
   "execution_count": 281,
   "metadata": {
    "collapsed": true
   },
   "outputs": [],
   "source": [
    "for n in range(17,18):\n",
    "    #print(n)\n",
    "    prob_L, prob_HB, prob_HG = main(n, p, d_list)\n",
    "    file_L = 'fooL' + str(n) + '.csv'\n",
    "    file_HB = 'fooHB' + str(n) + '.csv'\n",
    "    file_HG = 'fooHG' + str(n) + '.csv'\n",
    "    np.savetxt(file_L, prob_L)\n",
    "    np.savetxt(file_HB, prob_HB)\n",
    "    np.savetxt(file_HG, prob_HG)"
   ]
  },
  {
   "cell_type": "code",
   "execution_count": 278,
   "metadata": {
    "collapsed": false
   },
   "outputs": [
    {
     "data": {
      "text/plain": [
       "'fooL11.csv'"
      ]
     },
     "execution_count": 278,
     "metadata": {},
     "output_type": "execute_result"
    }
   ],
   "source": [
    "'fooL' + str(11) + '.csv'"
   ]
  },
  {
   "cell_type": "code",
   "execution_count": 263,
   "metadata": {
    "collapsed": false
   },
   "outputs": [],
   "source": [
    "#print(prob_L)\n",
    "#with open('foo.csv','wb') as f_handle:\n",
    "#    np.savetxt(f_handle,prob_L)"
   ]
  },
  {
   "cell_type": "code",
   "execution_count": null,
   "metadata": {
    "collapsed": true
   },
   "outputs": [],
   "source": []
  }
 ],
 "metadata": {
  "kernelspec": {
   "display_name": "Python 3",
   "language": "python",
   "name": "python3"
  },
  "language_info": {
   "codemirror_mode": {
    "name": "ipython",
    "version": 3
   },
   "file_extension": ".py",
   "mimetype": "text/x-python",
   "name": "python",
   "nbconvert_exporter": "python",
   "pygments_lexer": "ipython3",
   "version": "3.4.5"
  }
 },
 "nbformat": 4,
 "nbformat_minor": 0
}
